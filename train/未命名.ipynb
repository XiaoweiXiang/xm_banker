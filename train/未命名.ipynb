{
 "cells": [
  {
   "cell_type": "code",
   "execution_count": 1,
   "id": "eac6a288-6e24-4976-9dbd-dd7203e3877e",
   "metadata": {
    "tags": []
   },
   "outputs": [],
   "source": [
    "import os \n",
    "import numpy as np\n",
    "import pandas as pd\n",
    "import config, load_o_data"
   ]
  },
  {
   "cell_type": "code",
   "execution_count": 2,
   "id": "8f4f924e-5d92-4202-9c72-582ebe1ce0e7",
   "metadata": {},
   "outputs": [
    {
     "name": "stderr",
     "output_type": "stream",
     "text": [
      "df_x_train shape=(2386133, 5)\n",
      "df_y_train shape=(2386133, 2)\n",
      "df_train: \n"
     ]
    },
    {
     "name": "stdout",
     "output_type": "stream",
     "text": [
      "<class 'pandas.core.frame.DataFrame'>\n",
      "Int64Index: 2386133 entries, 0 to 2386132\n",
      "Data columns (total 6 columns):\n",
      " #   Column        Dtype         \n",
      "---  ------        -----         \n",
      " 0   id            object        \n",
      " 1   core_cust_id  object        \n",
      " 2   prod_code     object        \n",
      " 3   prod_type     int8          \n",
      " 4   deal_date     datetime64[ns]\n",
      " 5   y             int8          \n",
      "dtypes: datetime64[ns](1), int8(2), object(3)\n",
      "memory usage: 551.3 MB\n"
     ]
    }
   ],
   "source": [
    "df_train = load_o_data.load_df_train()"
   ]
  },
  {
   "cell_type": "code",
   "execution_count": 3,
   "id": "29cee572-a1cb-431b-975f-25d9302d40ea",
   "metadata": {},
   "outputs": [
    {
     "data": {
      "text/html": [
       "<div>\n",
       "<style scoped>\n",
       "    .dataframe tbody tr th:only-of-type {\n",
       "        vertical-align: middle;\n",
       "    }\n",
       "\n",
       "    .dataframe tbody tr th {\n",
       "        vertical-align: top;\n",
       "    }\n",
       "\n",
       "    .dataframe thead th {\n",
       "        text-align: right;\n",
       "    }\n",
       "</style>\n",
       "<table border=\"1\" class=\"dataframe\">\n",
       "  <thead>\n",
       "    <tr style=\"text-align: right;\">\n",
       "      <th></th>\n",
       "      <th>id</th>\n",
       "      <th>core_cust_id</th>\n",
       "      <th>prod_code</th>\n",
       "      <th>prod_type</th>\n",
       "      <th>deal_date</th>\n",
       "      <th>y</th>\n",
       "    </tr>\n",
       "  </thead>\n",
       "  <tbody>\n",
       "    <tr>\n",
       "      <th>0</th>\n",
       "      <td>4e3c3d57b83e425f8087b1d6d32a50f7</td>\n",
       "      <td>6e2105d9fe</td>\n",
       "      <td>90318011</td>\n",
       "      <td>4</td>\n",
       "      <td>2021-08-01</td>\n",
       "      <td>0</td>\n",
       "    </tr>\n",
       "    <tr>\n",
       "      <th>1</th>\n",
       "      <td>aa83c5fc05414c4d9727f0b32882f80e</td>\n",
       "      <td>6e2105d9fe</td>\n",
       "      <td>GRHLA20211530</td>\n",
       "      <td>1</td>\n",
       "      <td>2021-09-01</td>\n",
       "      <td>0</td>\n",
       "    </tr>\n",
       "    <tr>\n",
       "      <th>2</th>\n",
       "      <td>11245458ed6446cd9f88d57a5fc1d957</td>\n",
       "      <td>6e2105d9fe</td>\n",
       "      <td>DECD21090102</td>\n",
       "      <td>2</td>\n",
       "      <td>2021-09-01</td>\n",
       "      <td>0</td>\n",
       "    </tr>\n",
       "    <tr>\n",
       "      <th>3</th>\n",
       "      <td>359a03ecc46240d9bc00eef58dbc85e3</td>\n",
       "      <td>6e2105d9fe</td>\n",
       "      <td>GRHLA20211119</td>\n",
       "      <td>1</td>\n",
       "      <td>2021-08-01</td>\n",
       "      <td>0</td>\n",
       "    </tr>\n",
       "    <tr>\n",
       "      <th>4</th>\n",
       "      <td>7a5d79036dfb46acb7348e741ab00d9f</td>\n",
       "      <td>6e2105d9fe</td>\n",
       "      <td>GRHLA20211125</td>\n",
       "      <td>1</td>\n",
       "      <td>2021-08-01</td>\n",
       "      <td>0</td>\n",
       "    </tr>\n",
       "  </tbody>\n",
       "</table>\n",
       "</div>"
      ],
      "text/plain": [
       "                                 id core_cust_id      prod_code  prod_type  \\\n",
       "0  4e3c3d57b83e425f8087b1d6d32a50f7   6e2105d9fe       90318011          4   \n",
       "1  aa83c5fc05414c4d9727f0b32882f80e   6e2105d9fe  GRHLA20211530          1   \n",
       "2  11245458ed6446cd9f88d57a5fc1d957   6e2105d9fe   DECD21090102          2   \n",
       "3  359a03ecc46240d9bc00eef58dbc85e3   6e2105d9fe  GRHLA20211119          1   \n",
       "4  7a5d79036dfb46acb7348e741ab00d9f   6e2105d9fe  GRHLA20211125          1   \n",
       "\n",
       "   deal_date  y  \n",
       "0 2021-08-01  0  \n",
       "1 2021-09-01  0  \n",
       "2 2021-09-01  0  \n",
       "3 2021-08-01  0  \n",
       "4 2021-08-01  0  "
      ]
     },
     "execution_count": 3,
     "metadata": {},
     "output_type": "execute_result"
    }
   ],
   "source": [
    "df_train.head()"
   ]
  },
  {
   "cell_type": "code",
   "execution_count": 4,
   "id": "05f26e49-0622-4828-93dc-3bfa8d14df6d",
   "metadata": {},
   "outputs": [
    {
     "data": {
      "text/html": [
       "<div>\n",
       "<style scoped>\n",
       "    .dataframe tbody tr th:only-of-type {\n",
       "        vertical-align: middle;\n",
       "    }\n",
       "\n",
       "    .dataframe tbody tr th {\n",
       "        vertical-align: top;\n",
       "    }\n",
       "\n",
       "    .dataframe thead th {\n",
       "        text-align: right;\n",
       "    }\n",
       "</style>\n",
       "<table border=\"1\" class=\"dataframe\">\n",
       "  <thead>\n",
       "    <tr style=\"text-align: right;\">\n",
       "      <th></th>\n",
       "      <th>id</th>\n",
       "      <th>core_cust_id</th>\n",
       "      <th>prod_code</th>\n",
       "      <th>prod_type</th>\n",
       "      <th>deal_date</th>\n",
       "      <th>y</th>\n",
       "    </tr>\n",
       "  </thead>\n",
       "  <tbody>\n",
       "    <tr>\n",
       "      <th>min</th>\n",
       "      <td>000008390a954764a434cee0178965bd</td>\n",
       "      <td>1087ee0a95</td>\n",
       "      <td>90318011</td>\n",
       "      <td>1</td>\n",
       "      <td>2021-07-01</td>\n",
       "      <td>0</td>\n",
       "    </tr>\n",
       "    <tr>\n",
       "      <th>max</th>\n",
       "      <td>ffffff33047047febd26a887a3f32a1a</td>\n",
       "      <td>f1c58a672</td>\n",
       "      <td>SSTJMZKF002</td>\n",
       "      <td>4</td>\n",
       "      <td>2021-09-01</td>\n",
       "      <td>1</td>\n",
       "    </tr>\n",
       "  </tbody>\n",
       "</table>\n",
       "</div>"
      ],
      "text/plain": [
       "                                   id core_cust_id    prod_code  prod_type  \\\n",
       "min  000008390a954764a434cee0178965bd   1087ee0a95     90318011          1   \n",
       "max  ffffff33047047febd26a887a3f32a1a    f1c58a672  SSTJMZKF002          4   \n",
       "\n",
       "     deal_date  y  \n",
       "min 2021-07-01  0  \n",
       "max 2021-09-01  1  "
      ]
     },
     "execution_count": 4,
     "metadata": {},
     "output_type": "execute_result"
    }
   ],
   "source": [
    "df_train.apply([min, max, ])"
   ]
  },
  {
   "cell_type": "code",
   "execution_count": 5,
   "id": "953f139d-42ee-477e-849a-36d947adcb7a",
   "metadata": {},
   "outputs": [
    {
     "data": {
      "text/plain": [
       "mean    0.010659\n",
       "Name: y, dtype: float64"
      ]
     },
     "execution_count": 5,
     "metadata": {},
     "output_type": "execute_result"
    }
   ],
   "source": [
    "df_train['y'].apply([np.mean])"
   ]
  },
  {
   "cell_type": "code",
   "execution_count": 6,
   "id": "d1c27aa4-5bfc-4f79-8835-212a5eec801d",
   "metadata": {},
   "outputs": [
    {
     "data": {
      "text/html": [
       "<div>\n",
       "<style scoped>\n",
       "    .dataframe tbody tr th:only-of-type {\n",
       "        vertical-align: middle;\n",
       "    }\n",
       "\n",
       "    .dataframe tbody tr th {\n",
       "        vertical-align: top;\n",
       "    }\n",
       "\n",
       "    .dataframe thead th {\n",
       "        text-align: right;\n",
       "    }\n",
       "</style>\n",
       "<table border=\"1\" class=\"dataframe\">\n",
       "  <thead>\n",
       "    <tr style=\"text-align: right;\">\n",
       "      <th></th>\n",
       "      <th></th>\n",
       "      <th>prod_type</th>\n",
       "      <th>y</th>\n",
       "    </tr>\n",
       "    <tr>\n",
       "      <th>core_cust_id</th>\n",
       "      <th>deal_date</th>\n",
       "      <th></th>\n",
       "      <th></th>\n",
       "    </tr>\n",
       "  </thead>\n",
       "  <tbody>\n",
       "    <tr>\n",
       "      <th rowspan=\"3\" valign=\"top\">1087ee0a95</th>\n",
       "      <th>2021-07-01</th>\n",
       "      <td>4</td>\n",
       "      <td>1</td>\n",
       "    </tr>\n",
       "    <tr>\n",
       "      <th>2021-08-01</th>\n",
       "      <td>3</td>\n",
       "      <td>0</td>\n",
       "    </tr>\n",
       "    <tr>\n",
       "      <th>2021-09-01</th>\n",
       "      <td>7</td>\n",
       "      <td>0</td>\n",
       "    </tr>\n",
       "    <tr>\n",
       "      <th rowspan=\"2\" valign=\"top\">1087ee0c87</th>\n",
       "      <th>2021-07-01</th>\n",
       "      <td>4</td>\n",
       "      <td>0</td>\n",
       "    </tr>\n",
       "    <tr>\n",
       "      <th>2021-08-01</th>\n",
       "      <td>3</td>\n",
       "      <td>0</td>\n",
       "    </tr>\n",
       "    <tr>\n",
       "      <th>...</th>\n",
       "      <th>...</th>\n",
       "      <td>...</td>\n",
       "      <td>...</td>\n",
       "    </tr>\n",
       "    <tr>\n",
       "      <th>f1c586020</th>\n",
       "      <th>2021-09-01</th>\n",
       "      <td>5</td>\n",
       "      <td>0</td>\n",
       "    </tr>\n",
       "    <tr>\n",
       "      <th>f1c586086</th>\n",
       "      <th>2021-09-01</th>\n",
       "      <td>10</td>\n",
       "      <td>0</td>\n",
       "    </tr>\n",
       "    <tr>\n",
       "      <th rowspan=\"2\" valign=\"top\">f1c58a2ec</th>\n",
       "      <th>2021-08-01</th>\n",
       "      <td>4</td>\n",
       "      <td>0</td>\n",
       "    </tr>\n",
       "    <tr>\n",
       "      <th>2021-09-01</th>\n",
       "      <td>5</td>\n",
       "      <td>0</td>\n",
       "    </tr>\n",
       "    <tr>\n",
       "      <th>f1c58a672</th>\n",
       "      <th>2021-09-01</th>\n",
       "      <td>8</td>\n",
       "      <td>0</td>\n",
       "    </tr>\n",
       "  </tbody>\n",
       "</table>\n",
       "<p>736412 rows × 2 columns</p>\n",
       "</div>"
      ],
      "text/plain": [
       "                         prod_type  y\n",
       "core_cust_id deal_date               \n",
       "1087ee0a95   2021-07-01          4  1\n",
       "             2021-08-01          3  0\n",
       "             2021-09-01          7  0\n",
       "1087ee0c87   2021-07-01          4  0\n",
       "             2021-08-01          3  0\n",
       "...                            ... ..\n",
       "f1c586020    2021-09-01          5  0\n",
       "f1c586086    2021-09-01         10  0\n",
       "f1c58a2ec    2021-08-01          4  0\n",
       "             2021-09-01          5  0\n",
       "f1c58a672    2021-09-01          8  0\n",
       "\n",
       "[736412 rows x 2 columns]"
      ]
     },
     "execution_count": 6,
     "metadata": {},
     "output_type": "execute_result"
    }
   ],
   "source": [
    "df_train.groupby(['core_cust_id', 'deal_date', ]).agg({'prod_type': len, 'y': np.sum, })"
   ]
  },
  {
   "cell_type": "code",
   "execution_count": 8,
   "id": "037f2dc0-ab59-409f-a2ba-aaef88dc6ea6",
   "metadata": {},
   "outputs": [
    {
     "name": "stderr",
     "output_type": "stream",
     "text": [
      "df_test shape=(567362, 5)\n"
     ]
    },
    {
     "name": "stdout",
     "output_type": "stream",
     "text": [
      "<class 'pandas.core.frame.DataFrame'>\n",
      "RangeIndex: 567362 entries, 0 to 567361\n",
      "Data columns (total 5 columns):\n",
      " #   Column        Non-Null Count   Dtype         \n",
      "---  ------        --------------   -----         \n",
      " 0   id            567362 non-null  object        \n",
      " 1   core_cust_id  567362 non-null  object        \n",
      " 2   prod_code     567362 non-null  object        \n",
      " 3   prod_type     567362 non-null  int8          \n",
      " 4   deal_date     567362 non-null  datetime64[ns]\n",
      "dtypes: datetime64[ns](1), int8(1), object(3)\n",
      "memory usage: 126.3 MB\n"
     ]
    }
   ],
   "source": [
    "df_test = load_o_data.load_df_test()"
   ]
  },
  {
   "cell_type": "code",
   "execution_count": 9,
   "id": "0a9a76c9-0c73-480d-af54-9c84ecaae23b",
   "metadata": {},
   "outputs": [
    {
     "data": {
      "text/html": [
       "<div>\n",
       "<style scoped>\n",
       "    .dataframe tbody tr th:only-of-type {\n",
       "        vertical-align: middle;\n",
       "    }\n",
       "\n",
       "    .dataframe tbody tr th {\n",
       "        vertical-align: top;\n",
       "    }\n",
       "\n",
       "    .dataframe thead th {\n",
       "        text-align: right;\n",
       "    }\n",
       "</style>\n",
       "<table border=\"1\" class=\"dataframe\">\n",
       "  <thead>\n",
       "    <tr style=\"text-align: right;\">\n",
       "      <th></th>\n",
       "      <th>id</th>\n",
       "      <th>core_cust_id</th>\n",
       "      <th>prod_code</th>\n",
       "      <th>prod_type</th>\n",
       "      <th>deal_date</th>\n",
       "    </tr>\n",
       "  </thead>\n",
       "  <tbody>\n",
       "    <tr>\n",
       "      <th>min</th>\n",
       "      <td>000009b3391641aeb2938ca87b7b748a</td>\n",
       "      <td>1087ee0a95</td>\n",
       "      <td>90318011</td>\n",
       "      <td>1</td>\n",
       "      <td>2021-10-01</td>\n",
       "    </tr>\n",
       "    <tr>\n",
       "      <th>max</th>\n",
       "      <td>ffffe9a060544665aad3226170362e6a</td>\n",
       "      <td>f1c58a672</td>\n",
       "      <td>SSTJMZKF002</td>\n",
       "      <td>4</td>\n",
       "      <td>2021-10-01</td>\n",
       "    </tr>\n",
       "  </tbody>\n",
       "</table>\n",
       "</div>"
      ],
      "text/plain": [
       "                                   id core_cust_id    prod_code  prod_type  \\\n",
       "min  000009b3391641aeb2938ca87b7b748a   1087ee0a95     90318011          1   \n",
       "max  ffffe9a060544665aad3226170362e6a    f1c58a672  SSTJMZKF002          4   \n",
       "\n",
       "     deal_date  \n",
       "min 2021-10-01  \n",
       "max 2021-10-01  "
      ]
     },
     "execution_count": 9,
     "metadata": {},
     "output_type": "execute_result"
    }
   ],
   "source": [
    "df_test.apply([min, max, ])"
   ]
  },
  {
   "cell_type": "code",
   "execution_count": 11,
   "id": "77113ca3-aeff-4fd1-81c0-b56b2442e5e9",
   "metadata": {},
   "outputs": [
    {
     "data": {
      "text/html": [
       "<div>\n",
       "<style scoped>\n",
       "    .dataframe tbody tr th:only-of-type {\n",
       "        vertical-align: middle;\n",
       "    }\n",
       "\n",
       "    .dataframe tbody tr th {\n",
       "        vertical-align: top;\n",
       "    }\n",
       "\n",
       "    .dataframe thead th {\n",
       "        text-align: right;\n",
       "    }\n",
       "</style>\n",
       "<table border=\"1\" class=\"dataframe\">\n",
       "  <thead>\n",
       "    <tr style=\"text-align: right;\">\n",
       "      <th></th>\n",
       "      <th></th>\n",
       "      <th>prod_type</th>\n",
       "    </tr>\n",
       "    <tr>\n",
       "      <th>core_cust_id</th>\n",
       "      <th>deal_date</th>\n",
       "      <th></th>\n",
       "    </tr>\n",
       "  </thead>\n",
       "  <tbody>\n",
       "    <tr>\n",
       "      <th>1087ee0a95</th>\n",
       "      <th>2021-10-01</th>\n",
       "      <td>3</td>\n",
       "    </tr>\n",
       "    <tr>\n",
       "      <th>1087ee17e3</th>\n",
       "      <th>2021-10-01</th>\n",
       "      <td>5</td>\n",
       "    </tr>\n",
       "    <tr>\n",
       "      <th>1087ee19d4</th>\n",
       "      <th>2021-10-01</th>\n",
       "      <td>5</td>\n",
       "    </tr>\n",
       "    <tr>\n",
       "      <th>1087ee1a96</th>\n",
       "      <th>2021-10-01</th>\n",
       "      <td>5</td>\n",
       "    </tr>\n",
       "    <tr>\n",
       "      <th>1087ee1e23</th>\n",
       "      <th>2021-10-01</th>\n",
       "      <td>5</td>\n",
       "    </tr>\n",
       "    <tr>\n",
       "      <th>...</th>\n",
       "      <th>...</th>\n",
       "      <td>...</td>\n",
       "    </tr>\n",
       "    <tr>\n",
       "      <th>f04815fc6</th>\n",
       "      <th>2021-10-01</th>\n",
       "      <td>5</td>\n",
       "    </tr>\n",
       "    <tr>\n",
       "      <th>f1c5801fe</th>\n",
       "      <th>2021-10-01</th>\n",
       "      <td>5</td>\n",
       "    </tr>\n",
       "    <tr>\n",
       "      <th>f1c581e7e</th>\n",
       "      <th>2021-10-01</th>\n",
       "      <td>5</td>\n",
       "    </tr>\n",
       "    <tr>\n",
       "      <th>f1c58a2ec</th>\n",
       "      <th>2021-10-01</th>\n",
       "      <td>5</td>\n",
       "    </tr>\n",
       "    <tr>\n",
       "      <th>f1c58a672</th>\n",
       "      <th>2021-10-01</th>\n",
       "      <td>5</td>\n",
       "    </tr>\n",
       "  </tbody>\n",
       "</table>\n",
       "<p>112645 rows × 1 columns</p>\n",
       "</div>"
      ],
      "text/plain": [
       "                         prod_type\n",
       "core_cust_id deal_date            \n",
       "1087ee0a95   2021-10-01          3\n",
       "1087ee17e3   2021-10-01          5\n",
       "1087ee19d4   2021-10-01          5\n",
       "1087ee1a96   2021-10-01          5\n",
       "1087ee1e23   2021-10-01          5\n",
       "...                            ...\n",
       "f04815fc6    2021-10-01          5\n",
       "f1c5801fe    2021-10-01          5\n",
       "f1c581e7e    2021-10-01          5\n",
       "f1c58a2ec    2021-10-01          5\n",
       "f1c58a672    2021-10-01          5\n",
       "\n",
       "[112645 rows x 1 columns]"
      ]
     },
     "execution_count": 11,
     "metadata": {},
     "output_type": "execute_result"
    }
   ],
   "source": [
    "df_test.groupby(['core_cust_id', 'deal_date', ]).agg({'prod_type': len, })"
   ]
  },
  {
   "cell_type": "code",
   "execution_count": 12,
   "id": "33c9ba64-fa52-4e13-95a7-eb0574f0388f",
   "metadata": {},
   "outputs": [
    {
     "name": "stderr",
     "output_type": "stream",
     "text": [
      "df_userinfo shape=(264055, 4)\n"
     ]
    },
    {
     "name": "stdout",
     "output_type": "stream",
     "text": [
      "<class 'pandas.core.frame.DataFrame'>\n",
      "RangeIndex: 264055 entries, 0 to 264054\n",
      "Data columns (total 4 columns):\n",
      " #   Column        Non-Null Count   Dtype \n",
      "---  ------        --------------   ----- \n",
      " 0   core_cust_id  264055 non-null  object\n",
      " 1   sex           264055 non-null  int8  \n",
      " 2   cust_level    264055 non-null  int8  \n",
      " 3   age           264055 non-null  int8  \n",
      "dtypes: int8(3), object(1)\n",
      "memory usage: 17.6 MB\n"
     ]
    }
   ],
   "source": [
    "df_user_basic = load_o_data.load_df_user_basic()"
   ]
  },
  {
   "cell_type": "code",
   "execution_count": 18,
   "id": "f9096c12-6940-4cbe-82d7-5de37591ca8e",
   "metadata": {},
   "outputs": [
    {
     "data": {
      "text/html": [
       "<div>\n",
       "<style scoped>\n",
       "    .dataframe tbody tr th:only-of-type {\n",
       "        vertical-align: middle;\n",
       "    }\n",
       "\n",
       "    .dataframe tbody tr th {\n",
       "        vertical-align: top;\n",
       "    }\n",
       "\n",
       "    .dataframe thead th {\n",
       "        text-align: right;\n",
       "    }\n",
       "</style>\n",
       "<table border=\"1\" class=\"dataframe\">\n",
       "  <thead>\n",
       "    <tr style=\"text-align: right;\">\n",
       "      <th></th>\n",
       "      <th>core_cust_id</th>\n",
       "      <th>sex</th>\n",
       "      <th>cust_level</th>\n",
       "      <th>age</th>\n",
       "    </tr>\n",
       "  </thead>\n",
       "  <tbody>\n",
       "    <tr>\n",
       "      <th>min</th>\n",
       "      <td>1087ee0a95</td>\n",
       "      <td>1</td>\n",
       "      <td>-1</td>\n",
       "      <td>18</td>\n",
       "    </tr>\n",
       "    <tr>\n",
       "      <th>max</th>\n",
       "      <td>f1c58a672</td>\n",
       "      <td>2</td>\n",
       "      <td>4</td>\n",
       "      <td>101</td>\n",
       "    </tr>\n",
       "  </tbody>\n",
       "</table>\n",
       "</div>"
      ],
      "text/plain": [
       "    core_cust_id  sex  cust_level  age\n",
       "min   1087ee0a95    1          -1   18\n",
       "max    f1c58a672    2           4  101"
      ]
     },
     "execution_count": 18,
     "metadata": {},
     "output_type": "execute_result"
    }
   ],
   "source": [
    "df_user_basic.apply([min, max])"
   ]
  },
  {
   "cell_type": "code",
   "execution_count": 19,
   "id": "992a4be6-0d9a-4e0a-ba1a-4a43bcf0cffe",
   "metadata": {},
   "outputs": [
    {
     "name": "stderr",
     "output_type": "stream",
     "text": [
      "df_userrisk shape=(316116, 3)\n"
     ]
    },
    {
     "name": "stdout",
     "output_type": "stream",
     "text": [
      "<class 'pandas.core.frame.DataFrame'>\n",
      "RangeIndex: 316116 entries, 0 to 316115\n",
      "Data columns (total 3 columns):\n",
      " #   Column          Non-Null Count   Dtype         \n",
      "---  ------          --------------   -----         \n",
      " 0   core_cust_id    316116 non-null  object        \n",
      " 1   cust_risklevel  316116 non-null  int8          \n",
      " 2   eval_date       316116 non-null  datetime64[ns]\n",
      "dtypes: datetime64[ns](1), int8(1), object(1)\n",
      "memory usage: 22.9 MB\n"
     ]
    }
   ],
   "source": [
    "df_user_risk = load_o_data.load_df_user_risk()"
   ]
  },
  {
   "cell_type": "code",
   "execution_count": 20,
   "id": "85ef9099-255a-4a8b-b8aa-c2a8eb1f1f2a",
   "metadata": {},
   "outputs": [
    {
     "data": {
      "text/html": [
       "<div>\n",
       "<style scoped>\n",
       "    .dataframe tbody tr th:only-of-type {\n",
       "        vertical-align: middle;\n",
       "    }\n",
       "\n",
       "    .dataframe tbody tr th {\n",
       "        vertical-align: top;\n",
       "    }\n",
       "\n",
       "    .dataframe thead th {\n",
       "        text-align: right;\n",
       "    }\n",
       "</style>\n",
       "<table border=\"1\" class=\"dataframe\">\n",
       "  <thead>\n",
       "    <tr style=\"text-align: right;\">\n",
       "      <th></th>\n",
       "      <th>core_cust_id</th>\n",
       "      <th>cust_risklevel</th>\n",
       "      <th>eval_date</th>\n",
       "    </tr>\n",
       "  </thead>\n",
       "  <tbody>\n",
       "    <tr>\n",
       "      <th>min</th>\n",
       "      <td>1087ee0a95</td>\n",
       "      <td>1</td>\n",
       "      <td>2013-03-04</td>\n",
       "    </tr>\n",
       "    <tr>\n",
       "      <th>max</th>\n",
       "      <td>f1c58a672</td>\n",
       "      <td>5</td>\n",
       "      <td>2021-09-30</td>\n",
       "    </tr>\n",
       "  </tbody>\n",
       "</table>\n",
       "</div>"
      ],
      "text/plain": [
       "    core_cust_id  cust_risklevel  eval_date\n",
       "min   1087ee0a95               1 2013-03-04\n",
       "max    f1c58a672               5 2021-09-30"
      ]
     },
     "execution_count": 20,
     "metadata": {},
     "output_type": "execute_result"
    }
   ],
   "source": [
    "df_user_risk.apply([min, max])"
   ]
  },
  {
   "cell_type": "code",
   "execution_count": null,
   "id": "7092aff7-e371-45ff-b889-3702ade1da17",
   "metadata": {},
   "outputs": [
    {
     "name": "stdout",
     "output_type": "stream",
     "text": [
      "<class 'pandas.core.frame.DataFrame'>\n",
      "RangeIndex: 1038596 entries, 0 to 1038595\n",
      "Data columns (total 23 columns):\n",
      " #   Column        Non-Null Count    Dtype \n",
      "---  ------        --------------    ----- \n",
      " 0   core_cust_id  1038596 non-null  object\n",
      " 1   f1            1038596 non-null  object\n",
      " 2   f2            97285 non-null    object\n",
      " 3   f3            102669 non-null   object\n",
      " 4   f4            53939 non-null    object\n",
      " 5   f5            25147 non-null    object\n",
      " 6   f6            24650 non-null    object\n",
      " 7   f7            97285 non-null    object\n",
      " 8   f8            102669 non-null   object\n",
      " 9   f9            53939 non-null    object\n",
      " 10  f10           25147 non-null    object\n",
      " 11  f11           24650 non-null    object\n",
      " 12  f12           97285 non-null    object\n",
      " 13  f13           102669 non-null   object\n",
      " 14  f14           53939 non-null    object\n",
      " 15  f15           25147 non-null    object\n",
      " 16  f16           24650 non-null    object\n",
      " 17  f17           97285 non-null    object\n",
      " 18  f18           102669 non-null   object\n",
      " 19  f19           53939 non-null    object\n",
      " 20  f20           25147 non-null    object\n",
      " 21  f21           24650 non-null    object\n",
      " 22  f22           1038596 non-null  int64 \n",
      "dtypes: int64(1), object(22)\n",
      "memory usage: 810.8 MB\n"
     ]
    }
   ],
   "source": [
    "df_user_assets = load_o_data.load_df_user_assets()"
   ]
  },
  {
   "cell_type": "code",
   "execution_count": null,
   "id": "2b3a90ce-33c4-43de-b499-07c30f5ac13d",
   "metadata": {},
   "outputs": [],
   "source": [
    "df_user_assets.apply([min, max])"
   ]
  },
  {
   "cell_type": "code",
   "execution_count": null,
   "id": "03f4b9cc-878d-4fde-8aaa-8fd9dd4fb670",
   "metadata": {},
   "outputs": [],
   "source": []
  }
 ],
 "metadata": {
  "kernelspec": {
   "display_name": "mlpy37",
   "language": "python",
   "name": "mlpy37"
  },
  "language_info": {
   "codemirror_mode": {
    "name": "ipython",
    "version": 3
   },
   "file_extension": ".py",
   "mimetype": "text/x-python",
   "name": "python",
   "nbconvert_exporter": "python",
   "pygments_lexer": "ipython3",
   "version": "3.7.10"
  }
 },
 "nbformat": 4,
 "nbformat_minor": 5
}
